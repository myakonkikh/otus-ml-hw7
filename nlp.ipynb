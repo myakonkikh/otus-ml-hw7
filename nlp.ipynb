{
 "cells": [
  {
   "cell_type": "code",
   "execution_count": 1,
   "metadata": {},
   "outputs": [],
   "source": [
    "import requests\n",
    "import numpy as np\n",
    "import pandas as pd\n",
    "import time\n",
    "\n",
    "from bs4 import BeautifulSoup\n",
    "from fake_useragent import UserAgent\n",
    "\n",
    "import warnings\n",
    "warnings.filterwarnings(\"ignore\")\n",
    "\n",
    "RANDOM_SEED = 42\n",
    "np.random.seed(RANDOM_SEED)"
   ]
  },
  {
   "cell_type": "markdown",
   "metadata": {},
   "source": [
    "# Парсинг\n",
    "Будем парсит отзывы критиков о фильмах с сайта https://www.rottentomatoes.com/ и их сентимент метки"
   ]
  },
  {
   "cell_type": "code",
   "execution_count": 2,
   "metadata": {},
   "outputs": [],
   "source": [
    "rottentomatoes_link = 'https://www.rottentomatoes.com/'\n",
    "movies_types_links = ['browse/movies_at_home/', 'browse/movies_in_theaters/']\n",
    "count_pages = 30\n",
    "\n",
    "def page_link(page_num):\n",
    "    return f'?page={page_num}'\n",
    "\n",
    "def sleep():\n",
    "    time.sleep(np.random.uniform(3, 7))"
   ]
  },
  {
   "cell_type": "markdown",
   "metadata": {},
   "source": [
    "### Функция для парсинга ссылок фильмов на текущей странице"
   ]
  },
  {
   "cell_type": "code",
   "execution_count": 3,
   "metadata": {},
   "outputs": [
    {
     "data": {
      "text/plain": [
       "['/m/this_closeness',\n",
       " '/m/the_real_bros_of_simi_valley_the_movie',\n",
       " '/m/goyo',\n",
       " '/m/i_am_celine_dion',\n",
       " '/m/hummingbirds',\n",
       " '/m/tell_that_to_the_winter_sea',\n",
       " '/m/boneyard_2024',\n",
       " '/m/chestnut',\n",
       " '/m/geoff_mcfetridge_drawing_a_life',\n",
       " '/m/cold_blows_the_wind',\n",
       " '/m/beverly_hills_cop_axel_f',\n",
       " '/m/space_cadet',\n",
       " '/m/the_imaginary',\n",
       " '/m/murder_company',\n",
       " '/m/freydis_and_gudrid',\n",
       " '/m/a_family_affair_2024_2',\n",
       " '/m/furiosa_a_mad_max_saga',\n",
       " '/m/hit_man_2023',\n",
       " '/m/trigger_warning_2024',\n",
       " '/m/the_fall_guy_2024',\n",
       " '/m/if_2024',\n",
       " '/m/inside_out_2015',\n",
       " '/m/the_watchers_2024',\n",
       " '/m/a_quiet_place_2018',\n",
       " '/m/civil_war_2024',\n",
       " '/m/i_saw_the_tv_glow',\n",
       " '/m/a_quiet_place_part_ii',\n",
       " '/m/the_last_stop_in_yuma_county']"
      ]
     },
     "execution_count": 3,
     "metadata": {},
     "output_type": "execute_result"
    }
   ],
   "source": [
    "def get_film_links_from_current_page(page_link):\n",
    "    response = requests.get(page_link, headers={'User-Agent': UserAgent().chrome})\n",
    "    sleep()\n",
    "    if not response.ok:\n",
    "        return []\n",
    "    bs = BeautifulSoup(response.content, 'html.parser')\n",
    "    film_links = bs.find_all('a', attrs = {'class':'js-tile-link'})\n",
    "    first_type_links = [link.attrs['href'] for link in film_links]\n",
    "    film_links = bs.find_all('a', attrs = {'data-track':'scores'})\n",
    "    second_type_links = [link.attrs['href'] for link in film_links]\n",
    "    return first_type_links + second_type_links\n",
    "\n",
    "get_film_links_from_current_page('https://www.rottentomatoes.com/browse/movies_at_home?page=1')"
   ]
  },
  {
   "cell_type": "markdown",
   "metadata": {},
   "source": [
    "### Функции для парсинга фитч и целевой перменной фильма"
   ]
  },
  {
   "cell_type": "code",
   "execution_count": 4,
   "metadata": {},
   "outputs": [
    {
     "data": {
      "text/plain": [
       "[{'Movie': 'I Am: Celine Dion',\n",
       "  'Review': 'Even if she can’t sing the way she used to, Dion has given us a brave and shatteringly powerful documentary.',\n",
       "  'Sentiment': 'POSITIVE'},\n",
       " {'Movie': 'I Am: Celine Dion',\n",
       "  'Review': 'A deeply uncomfortable film that is unafraid to address themes of grief and regret, director Irene Taylor’s I Am: Celine Dion is more a celebration of the pop star’s spirit than her many professional achievements.',\n",
       "  'Sentiment': 'POSITIVE'},\n",
       " {'Movie': 'I Am: Celine Dion',\n",
       "  'Review': 'Even if you are completely disinterested in Dion, if you are a human being who has not found a way to achieve immortality, “I Am: Celine Dion” is still for you.',\n",
       "  'Sentiment': 'POSITIVE'},\n",
       " {'Movie': 'I Am: Celine Dion',\n",
       "  'Review': 'Emotionally stripped bare, Dion introduces a rarely seen side of herself outside of the spotlight in filmmaker Irene Taylor’s intimate portrait, I Am: Celine Dion, which will appeal to viewers whether you are a fan of her or not.',\n",
       "  'Sentiment': 'POSITIVE'},\n",
       " {'Movie': 'I Am: Celine Dion',\n",
       "  'Review': 'Raw and moving... [Full review in Spanish]',\n",
       "  'Sentiment': 'POSITIVE'},\n",
       " {'Movie': 'I Am: Celine Dion',\n",
       "  'Review': 'I Am: Celine Dion does well to balance her journey toward recovery with moments that highlight who she is as a person, not just a stiff-person.',\n",
       "  'Sentiment': 'POSITIVE'},\n",
       " {'Movie': 'I Am: Celine Dion',\n",
       "  'Review': 'The film lands somewhere between hand-holding fan service and brutal portrait of chronic illness.',\n",
       "  'Sentiment': 'POSITIVE'},\n",
       " {'Movie': 'I Am: Celine Dion',\n",
       "  'Review': 'This documentary is a gut-wrenching account of a music superstar who became a shadow of her former self due to a neurological disorder.',\n",
       "  'Sentiment': 'POSITIVE'},\n",
       " {'Movie': 'I Am: Celine Dion',\n",
       "  'Review': \"While it could’ve easily been indulgent, I Am keeps things grounded, never losing sight of Dion's SPS and the powerful instrument that is her voice.\",\n",
       "  'Sentiment': 'POSITIVE'},\n",
       " {'Movie': 'I Am: Celine Dion',\n",
       "  'Review': 'An inspirational documentary.',\n",
       "  'Sentiment': 'POSITIVE'},\n",
       " {'Movie': 'I Am: Celine Dion',\n",
       "  'Review': 'Baring her soul for just north of 100 minutes in Taylor’s melancholic but indomitably spirited movie, Dion makes it clear she sees her singing as a calling and has done since being inspired by mighty soprano Maria Callas.',\n",
       "  'Sentiment': 'POSITIVE'},\n",
       " {'Movie': 'I Am: Celine Dion',\n",
       "  'Review': \"Although additional perspectives from staff would've benefited the end product to a further extent, I Am: Celine Dion does its title justice, giving its main subject a platform to shine despite her circumstances.\",\n",
       "  'Sentiment': 'POSITIVE'},\n",
       " {'Movie': 'I Am: Celine Dion',\n",
       "  'Review': 'Dion’s voice made her a star; this film is keen on making her a person.',\n",
       "  'Sentiment': 'POSITIVE'},\n",
       " {'Movie': 'I Am: Celine Dion',\n",
       "  'Review': \"Far from a fluffy documentary that fawns over its subject, I Am: Celine Dion is a roller-coaster of emotions that leaves audiences with a mix of elation and uncertainty. But most incredibly, it gives one of music's biggest stars her voice back.\",\n",
       "  'Sentiment': 'POSITIVE'},\n",
       " {'Movie': 'I Am: Celine Dion',\n",
       "  'Review': 'A visceral, cathartic, confessional film and - in its way - as beautiful as it is valuable. [Full review in Spanish]',\n",
       "  'Sentiment': 'POSITIVE'},\n",
       " {'Movie': 'I Am: Celine Dion',\n",
       "  'Review': 'Eschewing talking heads for a portrait in which Dion insisted she do all the talking herself, this is a rare nonfiction chronicle of an artist that also avoids hagiography.',\n",
       "  'Sentiment': 'POSITIVE'},\n",
       " {'Movie': 'I Am: Celine Dion',\n",
       "  'Review': 'In the film’s final form, that story is told with a broad-strokes approach that keeps the film grounded in Dion’s fraught present.',\n",
       "  'Sentiment': 'POSITIVE'},\n",
       " {'Movie': 'I Am: Celine Dion',\n",
       "  'Review': 'The simplicity of the documentary’s bilingual title (I Am: Celine Dion / Je Suis: Céline Dion) gets at the simple if elusive question that concerns it: Who is the Grammy-winning singer without her voice, without her stage, without her audience?',\n",
       "  'Sentiment': 'POSITIVE'},\n",
       " {'Movie': 'I Am: Celine Dion',\n",
       "  'Review': 'a refreshingly intimate look at a constant figure in the world of pop.',\n",
       "  'Sentiment': 'POSITIVE'},\n",
       " {'Movie': 'I Am: Celine Dion',\n",
       "  'Review': 'This film is ultimately about resiliency in the face of one of life’s cruelest tricks, taking away the engine that drives Dion’s existence.',\n",
       "  'Sentiment': 'POSITIVE'}]"
      ]
     },
     "execution_count": 4,
     "metadata": {},
     "output_type": "execute_result"
    }
   ],
   "source": [
    "def get_move_name(bs):\n",
    "    return bs.find('a', attrs={'class', 'sidebar-title'}).text.strip()\n",
    "\n",
    "def get_sentiment(bs):\n",
    "    score_row = bs.find('score-icon-critics')\n",
    "    return score_row['sentiment']\n",
    "\n",
    "def get_review(bs):\n",
    "    review_row = bs.find('p', attrs={'class', 'review-text'})\n",
    "    return review_row.text.strip()\n",
    "\n",
    "def get_critics_reviews_and_labels(movie_link):\n",
    "    response = requests.get(rottentomatoes_link + movie_link + '/reviews' , headers={'User-Agent': UserAgent().chrome})\n",
    "    sleep()\n",
    "    if not response.ok:\n",
    "        return []\n",
    "    bs = BeautifulSoup(response.content, 'html.parser')\n",
    "    movie_name = get_move_name(bs)\n",
    "    review_rows = bs.find_all('div', attrs={'class':'review-row'})\n",
    "    return [{'Movie': movie_name, 'Review': get_review(row), 'Sentiment': get_sentiment(row)} for row in review_rows] \n",
    "\n",
    "get_critics_reviews_and_labels('/m/i_am_celine_dion')"
   ]
  },
  {
   "cell_type": "markdown",
   "metadata": {},
   "source": [
    "### Парсим"
   ]
  },
  {
   "cell_type": "code",
   "execution_count": 5,
   "metadata": {},
   "outputs": [
    {
     "data": {
      "application/vnd.jupyter.widget-view+json": {
       "model_id": "0dadb3d886c74251b74b8163e12fbfdd",
       "version_major": 2,
       "version_minor": 0
      },
      "text/plain": [
       "Movie types:   0%|          | 0/2 [00:00<?, ?it/s]"
      ]
     },
     "metadata": {},
     "output_type": "display_data"
    },
    {
     "data": {
      "application/vnd.jupyter.widget-view+json": {
       "model_id": "732cd6f091564eb281c9242126dde923",
       "version_major": 2,
       "version_minor": 0
      },
      "text/plain": [
       "Films:   0%|          | 0/140 [00:00<?, ?it/s]"
      ]
     },
     "metadata": {},
     "output_type": "display_data"
    },
    {
     "data": {
      "application/vnd.jupyter.widget-view+json": {
       "model_id": "2b79ca9cd2e64e989eaadf40913f74fb",
       "version_major": 2,
       "version_minor": 0
      },
      "text/plain": [
       "Films:   0%|          | 0/88 [00:00<?, ?it/s]"
      ]
     },
     "metadata": {},
     "output_type": "display_data"
    }
   ],
   "source": [
    "from tqdm import tqdm_notebook\n",
    "\n",
    "df = pd.DataFrame(columns=['Movie', 'Review', 'Sentiment'])\n",
    "\n",
    "for type_film_link in tqdm_notebook(movies_types_links, desc='Movie types'):\n",
    "    link = rottentomatoes_link + type_film_link + page_link(count_pages)\n",
    "    film_links = get_film_links_from_current_page(link)\n",
    "    for film_link in tqdm_notebook(film_links, desc='Films'):\n",
    "        data = get_critics_reviews_and_labels(film_link)\n",
    "        df = df._append(data, ignore_index=True)\n",
    "    sleep()\n",
    "\n",
    "df.to_csv('rottentomatoes_sentiment.csv', index=False)"
   ]
  },
  {
   "cell_type": "markdown",
   "metadata": {},
   "source": [
    "# NLP часть"
   ]
  },
  {
   "cell_type": "code",
   "execution_count": 6,
   "metadata": {},
   "outputs": [
    {
     "data": {
      "text/html": [
       "<div>\n",
       "<style scoped>\n",
       "    .dataframe tbody tr th:only-of-type {\n",
       "        vertical-align: middle;\n",
       "    }\n",
       "\n",
       "    .dataframe tbody tr th {\n",
       "        vertical-align: top;\n",
       "    }\n",
       "\n",
       "    .dataframe thead th {\n",
       "        text-align: right;\n",
       "    }\n",
       "</style>\n",
       "<table border=\"1\" class=\"dataframe\">\n",
       "  <thead>\n",
       "    <tr style=\"text-align: right;\">\n",
       "      <th></th>\n",
       "      <th>Movie</th>\n",
       "      <th>Review</th>\n",
       "      <th>Sentiment</th>\n",
       "    </tr>\n",
       "  </thead>\n",
       "  <tbody>\n",
       "    <tr>\n",
       "      <th>0</th>\n",
       "      <td>This Closeness</td>\n",
       "      <td>Many of life’s important moments don’t result ...</td>\n",
       "      <td>POSITIVE</td>\n",
       "    </tr>\n",
       "    <tr>\n",
       "      <th>1</th>\n",
       "      <td>This Closeness</td>\n",
       "      <td>Zauhar gets to the heart of her characters’ de...</td>\n",
       "      <td>POSITIVE</td>\n",
       "    </tr>\n",
       "    <tr>\n",
       "      <th>2</th>\n",
       "      <td>This Closeness</td>\n",
       "      <td>There's a lot to like in this journey of two h...</td>\n",
       "      <td>POSITIVE</td>\n",
       "    </tr>\n",
       "    <tr>\n",
       "      <th>3</th>\n",
       "      <td>This Closeness</td>\n",
       "      <td>At first, Zauhar’s project for the film isn’t ...</td>\n",
       "      <td>POSITIVE</td>\n",
       "    </tr>\n",
       "    <tr>\n",
       "      <th>4</th>\n",
       "      <td>This Closeness</td>\n",
       "      <td>I think I’m too old to fully “get” This Closen...</td>\n",
       "      <td>POSITIVE</td>\n",
       "    </tr>\n",
       "    <tr>\n",
       "      <th>...</th>\n",
       "      <td>...</td>\n",
       "      <td>...</td>\n",
       "      <td>...</td>\n",
       "    </tr>\n",
       "    <tr>\n",
       "      <th>3655</th>\n",
       "      <td>Majority Rules</td>\n",
       "      <td>Politically-minded viewers will love this deep...</td>\n",
       "      <td>POSITIVE</td>\n",
       "    </tr>\n",
       "    <tr>\n",
       "      <th>3656</th>\n",
       "      <td>Majority Rules</td>\n",
       "      <td>The film offers up at least one unquestionably...</td>\n",
       "      <td>POSITIVE</td>\n",
       "    </tr>\n",
       "    <tr>\n",
       "      <th>3657</th>\n",
       "      <td>How to Come Alive with Norman Mailer</td>\n",
       "      <td>Zimbalist hits on a great idea: arrange the fi...</td>\n",
       "      <td>POSITIVE</td>\n",
       "    </tr>\n",
       "    <tr>\n",
       "      <th>3658</th>\n",
       "      <td>How to Come Alive with Norman Mailer</td>\n",
       "      <td>A captivating, illuminating, warts-and-all doc...</td>\n",
       "      <td>POSITIVE</td>\n",
       "    </tr>\n",
       "    <tr>\n",
       "      <th>3659</th>\n",
       "      <td>How to Come Alive with Norman Mailer</td>\n",
       "      <td>It makes a case for that late, notorious “lite...</td>\n",
       "      <td>POSITIVE</td>\n",
       "    </tr>\n",
       "  </tbody>\n",
       "</table>\n",
       "<p>3629 rows × 3 columns</p>\n",
       "</div>"
      ],
      "text/plain": [
       "                                     Movie  \\\n",
       "0                           This Closeness   \n",
       "1                           This Closeness   \n",
       "2                           This Closeness   \n",
       "3                           This Closeness   \n",
       "4                           This Closeness   \n",
       "...                                    ...   \n",
       "3655                        Majority Rules   \n",
       "3656                        Majority Rules   \n",
       "3657  How to Come Alive with Norman Mailer   \n",
       "3658  How to Come Alive with Norman Mailer   \n",
       "3659  How to Come Alive with Norman Mailer   \n",
       "\n",
       "                                                 Review Sentiment  \n",
       "0     Many of life’s important moments don’t result ...  POSITIVE  \n",
       "1     Zauhar gets to the heart of her characters’ de...  POSITIVE  \n",
       "2     There's a lot to like in this journey of two h...  POSITIVE  \n",
       "3     At first, Zauhar’s project for the film isn’t ...  POSITIVE  \n",
       "4     I think I’m too old to fully “get” This Closen...  POSITIVE  \n",
       "...                                                 ...       ...  \n",
       "3655  Politically-minded viewers will love this deep...  POSITIVE  \n",
       "3656  The film offers up at least one unquestionably...  POSITIVE  \n",
       "3657  Zimbalist hits on a great idea: arrange the fi...  POSITIVE  \n",
       "3658  A captivating, illuminating, warts-and-all doc...  POSITIVE  \n",
       "3659  It makes a case for that late, notorious “lite...  POSITIVE  \n",
       "\n",
       "[3629 rows x 3 columns]"
      ]
     },
     "execution_count": 6,
     "metadata": {},
     "output_type": "execute_result"
    }
   ],
   "source": [
    "df = pd.read_csv('rottentomatoes_sentiment.csv')\n",
    "df = df.dropna()\n",
    "df"
   ]
  },
  {
   "cell_type": "code",
   "execution_count": 7,
   "metadata": {},
   "outputs": [],
   "source": [
    "def sentiment2labelnum(sentiment):\n",
    "    if sentiment == 'POSITIVE':\n",
    "        return 1 \n",
    "    return 0\n",
    "\n",
    "df['Sentiment'] = df['Sentiment'].apply(sentiment2labelnum)"
   ]
  },
  {
   "cell_type": "code",
   "execution_count": 8,
   "metadata": {},
   "outputs": [
    {
     "name": "stdout",
     "output_type": "stream",
     "text": [
      "179\n",
      "['i', 'me', 'my', 'myself', 'we', 'our', 'ours', 'ourselves', 'you', \"you're\"]\n"
     ]
    },
    {
     "name": "stderr",
     "output_type": "stream",
     "text": [
      "[nltk_data] Downloading package stopwords to /home/nikita/nltk_data...\n",
      "[nltk_data]   Package stopwords is already up-to-date!\n"
     ]
    }
   ],
   "source": [
    "import nltk\n",
    "\n",
    "# Загружаем стоп слова\n",
    "nltk.download('stopwords')\n",
    "stop_words = nltk.corpus.stopwords.words('english')\n",
    "\n",
    "# пример стоп слов\n",
    "print(len(stop_words))\n",
    "print(stop_words[:10])"
   ]
  },
  {
   "cell_type": "code",
   "execution_count": 9,
   "metadata": {},
   "outputs": [],
   "source": [
    "import re\n",
    "from tqdm import tqdm\n",
    "\n",
    "regex = re.compile(r'[A-z]+')\n",
    "word_tokenizer = nltk.WordPunctTokenizer()\n",
    "\n",
    "def words_only(text, regex=regex):\n",
    "    try:\n",
    "        return ' '.join(regex.findall(text)).lower()\n",
    "    except:\n",
    "        return ''\n",
    "    \n",
    "def process_data(data):\n",
    "    texts = []\n",
    "    for row in tqdm(data.itertuples()):\n",
    "        text        = row.Review.replace(row.Movie, '')\n",
    "        text_lower  = words_only(text)\n",
    "        tokens      = word_tokenizer.tokenize(text_lower)\n",
    "\n",
    "        tokens = [word for word in tokens if (word not in stop_words and not word.isnumeric())]\n",
    "\n",
    "        texts.append(tokens)\n",
    "\n",
    "    return texts"
   ]
  },
  {
   "cell_type": "code",
   "execution_count": 10,
   "metadata": {},
   "outputs": [
    {
     "name": "stderr",
     "output_type": "stream",
     "text": [
      "3629it [00:00, 18005.82it/s]"
     ]
    },
    {
     "name": "stdout",
     "output_type": "stream",
     "text": [
      "Label:  1\n",
      "Tokens:  ['zauhar', 'gets', 'heart', 'characters', 'deepest', 'fears', 'desires', 'way', 'disarmingly', 'funny']\n"
     ]
    },
    {
     "name": "stderr",
     "output_type": "stream",
     "text": [
      "\n"
     ]
    }
   ],
   "source": [
    "y = df['Sentiment']\n",
    "texts = process_data(df)\n",
    "# example\n",
    "i = 1\n",
    "print(\"Label: \", y[i])\n",
    "print(\"Tokens: \", texts[i][:10])"
   ]
  },
  {
   "cell_type": "markdown",
   "metadata": {},
   "source": [
    "Нормализация слов"
   ]
  },
  {
   "cell_type": "code",
   "execution_count": 11,
   "metadata": {},
   "outputs": [
    {
     "name": "stderr",
     "output_type": "stream",
     "text": [
      "100%|██████████| 3629/3629 [00:00<00:00, 6583.99it/s]\n"
     ]
    }
   ],
   "source": [
    "from nltk.stem.snowball import SnowballStemmer\n",
    "\n",
    "stemmer = SnowballStemmer('english')\n",
    "\n",
    "# применяем лемматизацию ко всем текстам\n",
    "for i in tqdm(range(len(texts))):           # tqdm_notebook создает шкалу прогресса :)\n",
    "   text_stemmed = ' '.join([stemmer.stem(x) for x in texts[i]]) # применяем лемматизацию для каждого слова в тексте\n",
    "   texts[i] = text_stemmed             # объединяем все слова в одну строку через пробел"
   ]
  },
  {
   "cell_type": "code",
   "execution_count": 12,
   "metadata": {},
   "outputs": [],
   "source": [
    "from sklearn.model_selection import train_test_split\n",
    "\n",
    "text_train, text_test, y_train, y_test = train_test_split(texts, y, test_size=0.2, random_state=RANDOM_SEED, stratify=y)"
   ]
  },
  {
   "cell_type": "code",
   "execution_count": 13,
   "metadata": {},
   "outputs": [
    {
     "data": {
      "text/plain": [
       "array(['abil', 'abl', 'absolut', 'absurd', 'accept', 'account', 'achiev',\n",
       "       'across', 'act', 'action'], dtype=object)"
      ]
     },
     "execution_count": 13,
     "metadata": {},
     "output_type": "execute_result"
    }
   ],
   "source": [
    "from sklearn.feature_extraction.text import TfidfVectorizer\n",
    "\n",
    "vectorizer = TfidfVectorizer(ngram_range=(1, 2), min_df=5, max_df= 0.8, max_features=1200, norm=None)\n",
    "X_train = vectorizer.fit_transform(text_train)\n",
    "X_test = vectorizer.transform(text_test)\n",
    "\n",
    "# Топ-10 слов\n",
    "vectorizer.get_feature_names_out()[:10]"
   ]
  },
  {
   "cell_type": "markdown",
   "metadata": {},
   "source": [
    "### Логистическая регрессия"
   ]
  },
  {
   "cell_type": "code",
   "execution_count": 14,
   "metadata": {},
   "outputs": [],
   "source": [
    "from sklearn.linear_model import LogisticRegression\n",
    "\n",
    "lr = LogisticRegression(C=0.2, max_iter=1000, class_weight='balanced')\n",
    "lr.fit(X_train, y_train)\n",
    "\n",
    "pred_test = lr.predict(X_test)"
   ]
  },
  {
   "cell_type": "markdown",
   "metadata": {},
   "source": [
    "Оценка качества"
   ]
  },
  {
   "cell_type": "code",
   "execution_count": 15,
   "metadata": {},
   "outputs": [
    {
     "data": {
      "image/png": "[encoded data removed]",
      "text/plain": [
       "<Figure size 1000x700 with 2 Axes>"
      ]
     },
     "metadata": {},
     "output_type": "display_data"
    },
    {
     "name": "stdout",
     "output_type": "stream",
     "text": [
      "              precision    recall  f1-score   support\n",
      "\n",
      "           0       0.59      0.63      0.61       183\n",
      "           1       0.87      0.85      0.86       543\n",
      "\n",
      "    accuracy                           0.80       726\n",
      "   macro avg       0.73      0.74      0.74       726\n",
      "weighted avg       0.80      0.80      0.80       726\n",
      "\n"
     ]
    }
   ],
   "source": [
    "import matplotlib.pyplot as plt\n",
    "import seaborn as sns\n",
    "\n",
    "from sklearn.metrics import classification_report, confusion_matrix\n",
    "\n",
    "# Вычисление матрицы ошибок\n",
    "conf_matrix = confusion_matrix(y_test, pred_test)\n",
    "\n",
    "# Отображение матрицы ошибок\n",
    "plt.figure(figsize=(10, 7))\n",
    "sns.heatmap(conf_matrix, annot=True, fmt='d', cmap='Blues', xticklabels=np.unique(y), yticklabels=np.unique(y))\n",
    "plt.xlabel('Predicted')\n",
    "plt.ylabel('Actual')\n",
    "plt.title('Confusion Matrix')\n",
    "plt.show()\n",
    "\n",
    "print(classification_report(y_true=y_test, y_pred=pred_test))"
   ]
  },
  {
   "cell_type": "markdown",
   "metadata": {},
   "source": [
    "Визуализация получившихся коэффициентов регрессии"
   ]
  },
  {
   "cell_type": "code",
   "execution_count": 16,
   "metadata": {},
   "outputs": [
    {
     "data": {
      "image/png": "[encoded data removed]",
      "text/plain": [
       "<Figure size 1000x1000 with 1 Axes>"
      ]
     },
     "metadata": {},
     "output_type": "display_data"
    }
   ],
   "source": [
    "# Визуализация коэффициентов регрессии\n",
    "feature_names = vectorizer.get_feature_names_out()\n",
    "coefficients = lr.coef_[0]\n",
    "\n",
    "# Получение топ-50 слов\n",
    "top_words_idx = np.argsort(coefficients)[-50:]\n",
    "top_words = [feature_names[idx] for idx in top_words_idx]\n",
    "\n",
    "plt.figure(figsize=(10, 10))\n",
    "plt.barh(top_words, coefficients[top_words_idx])\n",
    "plt.xlabel('Coefficient Value')\n",
    "plt.ylabel('Word')\n",
    "plt.title('Top 50 Words by Coefficient in Logistic Regression')\n",
    "plt.show()"
   ]
  },
  {
   "cell_type": "markdown",
   "metadata": {},
   "source": [
    "Как можно заметить, если фильм снят в классическом стиле кинематографа и в США, то скорее всего он обречен на положительный отзыв у критиков"
   ]
  }
 ],
 "metadata": {
  "kernelspec": {
   "display_name": "ml_env",
   "language": "python",
   "name": "python3"
  },
  "language_info": {
   "codemirror_mode": {
    "name": "ipython",
    "version": 3
   },
   "file_extension": ".py",
   "mimetype": "text/x-python",
   "name": "python",
   "nbconvert_exporter": "python",
   "pygments_lexer": "ipython3",
   "version": "3.12.2"
  }
 },
 "nbformat": 4,
 "nbformat_minor": 2
}
